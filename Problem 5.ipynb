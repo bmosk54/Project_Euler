{
 "cells": [
  {
   "cell_type": "code",
   "execution_count": 21,
   "metadata": {},
   "outputs": [
    {
     "name": "stdout",
     "output_type": "stream",
     "text": [
      "232792560\n"
     ]
    }
   ],
   "source": [
    "\"\"\" 2520 is the smallest number that can be divided by each of the numbers from 1 to 10 without any remainder.\n",
    "What is the smallest positive number that is evenly divisible by all of the numbers from 1 to 20?     \"\"\"\n",
    "\n",
    "# Multiply current number by new number and divide by gcf to get smallest possible divisible number\n",
    "NUMBER = 20\n",
    "\n",
    "def gcf(a,b): \n",
    "    if(b==0): \n",
    "        return a \n",
    "    else: \n",
    "        return gcf(b,a%b) \n",
    "\n",
    "def lcm(n): \n",
    "    ans = 1    \n",
    "    for i in range(1, n + 1): \n",
    "        ans = (ans * i)/gcf(ans, i)         \n",
    "    return ans \n",
    "  \n",
    "print(int(lcm(NUMBER))) "
   ]
  },
  {
   "cell_type": "code",
   "execution_count": null,
   "metadata": {},
   "outputs": [],
   "source": []
  }
 ],
 "metadata": {
  "kernelspec": {
   "display_name": "Python 3",
   "language": "python",
   "name": "python3"
  },
  "language_info": {
   "codemirror_mode": {
    "name": "ipython",
    "version": 3
   },
   "file_extension": ".py",
   "mimetype": "text/x-python",
   "name": "python",
   "nbconvert_exporter": "python",
   "pygments_lexer": "ipython3",
   "version": "3.6.8"
  }
 },
 "nbformat": 4,
 "nbformat_minor": 2
}
