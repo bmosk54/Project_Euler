{
 "cells": [
  {
   "cell_type": "code",
   "execution_count": 4,
   "metadata": {},
   "outputs": [
    {
     "name": "stdout",
     "output_type": "stream",
     "text": [
      "2783915460\n",
      "The 4782-th term has 1000 digits\n"
     ]
    }
   ],
   "source": [
    "from math import factorial\n",
    "\n",
    "def perm(n, s):\n",
    "    if len(s)==1: \n",
    "        return s\n",
    "    q, r = divmod(n, factorial(len(s)-1))\n",
    "    return s[q] + perm(r, s[:q] + s[q+1:])\n",
    "\n",
    "L = 1000000\n",
    "print(perm(L-1, '0123456789'))\n",
    "\n",
    "def fibo():\n",
    "    a = 0\n",
    "    b = 1\n",
    "    while True:\n",
    "        yield b\n",
    "        a,b = b,a+b\n",
    "f = enumerate(fibo())\n",
    "x = 0\n",
    "while len(str(x)) < 1000:\n",
    "    i,x = next(f)\n",
    "\n",
    "print(\"The %d-th term has %d digits\"%(i+1,len(str(x))))"
   ]
  }
 ],
 "metadata": {
  "kernelspec": {
   "display_name": "Python 3",
   "language": "python",
   "name": "python3"
  },
  "language_info": {
   "codemirror_mode": {
    "name": "ipython",
    "version": 3
   },
   "file_extension": ".py",
   "mimetype": "text/x-python",
   "name": "python",
   "nbconvert_exporter": "python",
   "pygments_lexer": "ipython3",
   "version": "3.6.8"
  }
 },
 "nbformat": 4,
 "nbformat_minor": 2
}
