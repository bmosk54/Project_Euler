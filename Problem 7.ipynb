{
 "cells": [
  {
   "cell_type": "code",
   "execution_count": 11,
   "metadata": {},
   "outputs": [
    {
     "name": "stdout",
     "output_type": "stream",
     "text": [
      "104743\n"
     ]
    }
   ],
   "source": [
    "\"\"\"By listing the first six prime numbers: 2, 3, 5, 7, 11, and 13, we can see that the 6th prime is 13.\n",
    "\n",
    "What is the 10 001st prime number?\"\"\"\n",
    "\n",
    "def prime_nums(num):\n",
    "    primes = [2]\n",
    "    i = 3\n",
    "    while (len(primes) < num):\n",
    "        is_prime = True\n",
    "        for prime in primes if :\n",
    "            if i % prime == 0:\n",
    "                is_prime = False\n",
    "        if (is_prime):\n",
    "            primes.append(i)\n",
    "        i += 2\n",
    "    return primes[-1]\n",
    "\n",
    "print(prime_nums(10001))\n",
    "        "
   ]
  }
 ],
 "metadata": {
  "kernelspec": {
   "display_name": "Python 3",
   "language": "python",
   "name": "python3"
  },
  "language_info": {
   "codemirror_mode": {
    "name": "ipython",
    "version": 3
   },
   "file_extension": ".py",
   "mimetype": "text/x-python",
   "name": "python",
   "nbconvert_exporter": "python",
   "pygments_lexer": "ipython3",
   "version": "3.6.8"
  }
 },
 "nbformat": 4,
 "nbformat_minor": 2
}
