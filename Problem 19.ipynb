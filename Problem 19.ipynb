{
 "cells": [
  {
   "cell_type": "code",
   "execution_count": 36,
   "metadata": {},
   "outputs": [
    {
     "name": "stdout",
     "output_type": "stream",
     "text": [
      "171\n"
     ]
    }
   ],
   "source": [
    "\"\"\"You are given the following information, but you may prefer to do some research for yourself.\n",
    "1 Jan 1900 was a Monday.\n",
    "Thirty days has September,\n",
    "April, June and November.\n",
    "All the rest have thirty-one,\n",
    "Saving February alone,\n",
    "Which has twenty-eight, rain or shine.\n",
    "And on leap years, twenty-nine.\n",
    "A leap year occurs on any year evenly divisible by 4, but not on a century unless it is divisible by 400.\n",
    "How many Sundays fell on the first of the month during the twentieth century (1 Jan 1901 to 31 Dec 2000)?\"\"\"\n",
    "\n",
    "months = {1:31, 2:28, 3:31, 4:30, 5:31, 6:30, 7:31, 8:31, 9:30, 10:31, 11:30, 12:31}\n",
    "\n",
    "def sunday_count(start_date, end_date, starting_day):\n",
    "    curr_month, curr_day, curr_year = start_date.split(\"-\")\n",
    "    end_month, end_day, end_year = end_date.split(\"-\")\n",
    "    day_of_week = starting_day\n",
    "    sundays = 0\n",
    "    \n",
    "    while int(curr_year) <= int(end_year):\n",
    "        if int(curr_year)%4 == 0 or :\n",
    "            months[2] == 29\n",
    "        else:\n",
    "            months[2] = 28\n",
    "        while int(curr_month) <= 12:\n",
    "            while int(curr_day) <= months[int(curr_month)]:\n",
    "                if day_of_week == 0 and int(curr_day) == 1:\n",
    "                    sundays += 1\n",
    "                day_of_week += 1\n",
    "                curr_day = int(curr_day) + 1\n",
    "                if day_of_week > 6:\n",
    "                    day_of_week = 0\n",
    "            curr_month = int(curr_month) + 1\n",
    "            curr_day = 1\n",
    "        curr_month = 1\n",
    "        curr_year = int(curr_year) + 1\n",
    "        \n",
    "    return sundays\n",
    "            \n",
    "    \n",
    "\n",
    "print(sunday_count(\"1-1-1901\", \"12-31-2000\", 2))"
   ]
  }
 ],
 "metadata": {
  "kernelspec": {
   "display_name": "Python 3",
   "language": "python",
   "name": "python3"
  },
  "language_info": {
   "codemirror_mode": {
    "name": "ipython",
    "version": 3
   },
   "file_extension": ".py",
   "mimetype": "text/x-python",
   "name": "python",
   "nbconvert_exporter": "python",
   "pygments_lexer": "ipython3",
   "version": "3.6.8"
  }
 },
 "nbformat": 4,
 "nbformat_minor": 2
}
