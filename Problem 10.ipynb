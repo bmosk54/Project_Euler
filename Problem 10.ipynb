{
 "cells": [
  {
   "cell_type": "code",
   "execution_count": 4,
   "metadata": {},
   "outputs": [
    {
     "name": "stdout",
     "output_type": "stream",
     "text": [
      "12272577818052\n"
     ]
    }
   ],
   "source": [
    "\"\"\"The sum of the primes below 10 is 2 + 3 + 5 + 7 = 17.\n",
    "\n",
    "Find the sum of all the primes below two million.\"\"\"\n",
    "\n",
    "def SieveOfEratosthenes(n):  \n",
    "    prime = [True for i in range(n+1)] \n",
    "    p = 2\n",
    "    while (p * p <= n): \n",
    "        if (prime[p] == True): \n",
    "            # Mark any multiple of the number as False\n",
    "            for i in range(p * p, n+1, p): \n",
    "                prime[i] = False\n",
    "        p += 1\n",
    "    \n",
    "    primes = []\n",
    "    for p in range(2, n): \n",
    "        if prime[p]: \n",
    "            primes.append(p)\n",
    "    return primes\n",
    "            \n",
    "print(sum(SieveOfEratosthenes(2000000)))"
   ]
  }
 ],
 "metadata": {
  "kernelspec": {
   "display_name": "Python 3",
   "language": "python",
   "name": "python3"
  },
  "language_info": {
   "codemirror_mode": {
    "name": "ipython",
    "version": 3
   },
   "file_extension": ".py",
   "mimetype": "text/x-python",
   "name": "python",
   "nbconvert_exporter": "python",
   "pygments_lexer": "ipython3",
   "version": "3.6.8"
  }
 },
 "nbformat": 4,
 "nbformat_minor": 2
}
