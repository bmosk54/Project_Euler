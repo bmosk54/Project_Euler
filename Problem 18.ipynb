{
 "cells": [
  {
   "cell_type": "code",
   "execution_count": 79,
   "metadata": {},
   "outputs": [
    {
     "name": "stdout",
     "output_type": "stream",
     "text": [
      "Maximum sum: 1074\n"
     ]
    }
   ],
   "source": [
    "\"\"\"By starting at the top of the triangle below and moving to adjacent numbers on the row below, the maximum total from top to bottom is 23.\n",
    "3\n",
    "7 4\n",
    "2 4 6\n",
    "8 5 9 3\n",
    "That is, 3 + 7 + 4 + 9 = 23.\n",
    "Find the maximum total from top to bottom of the triangle below:\n",
    "\"\"\"\n",
    "\n",
    "triangle_nums = \"\"\"75 \n",
    " 95 64 \n",
    " 17 47 82 \n",
    " 18 35 87 10 \n",
    " 20 04 82 47 65 \n",
    " 19 01 23 75 03 34 \n",
    " 88 02 77 73 07 63 67 \n",
    " 99 65 04 28 06 16 70 92 \n",
    " 41 41 26 56 83 40 80 70 33 \n",
    " 41 48 72 33 47 32 37 16 94 29 \n",
    " 53 71 44 65 25 43 91 52 97 51 14 \n",
    " 70 11 33 28 77 73 17 78 39 68 17 57 \n",
    " 91 71 52 38 17 14 91 43 58 50 27 29 48 \n",
    " 63 66 04 68 89 53 67 30 73 16 69 87 40 31 \n",
    " 04 62 98 27 23 09 70 98 73 93 38 53 60 04 23 \n",
    "\"\"\"\n",
    "\n",
    "triangle_nums = triangle_nums.split(\" \")\n",
    "\n",
    "def make_triangle(nums):\n",
    "    triangle = []\n",
    "    row = []\n",
    "    for i in nums:\n",
    "        if i == \"\\n\":\n",
    "            triangle.append(row)\n",
    "            row = []\n",
    "            continue\n",
    "\n",
    "        row.append(int(i))      \n",
    "    return triangle\n",
    "\n",
    "def max_sum(triangle):\n",
    "    return max_sum_helper(triangle, len(triangle) - 2)\n",
    "\n",
    "def max_sum_helper(triangle, row):\n",
    "    for i in range(row+1):\n",
    "        triangle[row][i] += max([triangle[row+1][i],triangle[row+1][i+1]])\n",
    "    triangle.remove(triangle[row+1])\n",
    "\n",
    "    if row == 0: \n",
    "        return triangle[row][0]\n",
    "    else: \n",
    "        return max_sum_helper(triangle, row-1)\n",
    "\n",
    "triangle = make_triangle(triangle_nums)\n",
    "print(\"Maximum sum:\",max_sum(triangle))\n",
    "\n",
    "        \n",
    "    "
   ]
  }
 ],
 "metadata": {
  "kernelspec": {
   "display_name": "Python 3",
   "language": "python",
   "name": "python3"
  },
  "language_info": {
   "codemirror_mode": {
    "name": "ipython",
    "version": 3
   },
   "file_extension": ".py",
   "mimetype": "text/x-python",
   "name": "python",
   "nbconvert_exporter": "python",
   "pygments_lexer": "ipython3",
   "version": "3.6.8"
  }
 },
 "nbformat": 4,
 "nbformat_minor": 2
}
