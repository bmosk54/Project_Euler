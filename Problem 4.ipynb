{
 "cells": [
  {
   "cell_type": "code",
   "execution_count": 11,
   "metadata": {},
   "outputs": [
    {
     "name": "stdout",
     "output_type": "stream",
     "text": [
      "906609\n"
     ]
    }
   ],
   "source": [
    "\"\"\"A palindromic number reads the same both ways. \n",
    "The largest palindrome made from the product of two 2-digit numbers is 9009 = 91 × 99.\n",
    "Find the largest palindrome made from the product of two 3-digit numbers.  \"\"\"\n",
    "\n",
    "def palindrome(num):\n",
    "    if str(num)[::-1] == str(num):\n",
    "        return True\n",
    "    return False\n",
    "\n",
    "i = 100\n",
    "j = 100\n",
    "greatest = 0\n",
    "while (i <= 999):\n",
    "    while (j <= 999):\n",
    "        product = i * j\n",
    "        if (product > greatest and palindrome(str(product))):\n",
    "            greatest = product\n",
    "        j += 1\n",
    "    j = 100\n",
    "    i += 1\n",
    "\n",
    "print(str(greatest))"
   ]
  }
 ],
 "metadata": {
  "kernelspec": {
   "display_name": "Python 3",
   "language": "python",
   "name": "python3"
  },
  "language_info": {
   "codemirror_mode": {
    "name": "ipython",
    "version": 3
   },
   "file_extension": ".py",
   "mimetype": "text/x-python",
   "name": "python",
   "nbconvert_exporter": "python",
   "pygments_lexer": "ipython3",
   "version": "3.6.8"
  }
 },
 "nbformat": 4,
 "nbformat_minor": 2
}
