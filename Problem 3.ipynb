{
 "cells": [
  {
   "cell_type": "code",
   "execution_count": 24,
   "metadata": {},
   "outputs": [
    {
     "name": "stdout",
     "output_type": "stream",
     "text": [
      "6857\n"
     ]
    }
   ],
   "source": [
    "\"\"\" The prime factors of 13195 are 5, 7, 13 and 29.\n",
    "\n",
    "What is the largest prime factor of the number 600851475143? \"\"\"\n",
    "# Initial solution\n",
    "import math\n",
    "FACTOR_NUM = 600851475143\n",
    "\n",
    "def is_prime(num):\n",
    "    for i in range(2, math.floor(math.sqrt(num))):\n",
    "        if (num % i == 0):\n",
    "            return False\n",
    "    return True\n",
    "\n",
    "for i in range(2, FACTOR_NUM):\n",
    "    if (FACTOR_NUM % i == 0 and is_prime(FACTOR_NUM/i)):\n",
    "        factor = i\n",
    "        break\n",
    "\n",
    "print(int(FACTOR_NUM/factor))"
   ]
  },
  {
   "cell_type": "code",
   "execution_count": 23,
   "metadata": {},
   "outputs": [
    {
     "name": "stdout",
     "output_type": "stream",
     "text": [
      "6857\n"
     ]
    }
   ],
   "source": [
    "# Figured out instead of checking if prime I can just divide by the divisible number\n",
    "# to obtain all the prime factors, going much more efficiently than previous solution\n",
    "\n",
    "NUMBER = 600851475143\n",
    "factors = []\n",
    "factor_checker = 2\n",
    "while NUMBER != 1:\n",
    "    if (NUMBER % factor_checker) == 0:\n",
    "            NUMBER /= factor_checker\n",
    "            factors.append(factor_checker)\n",
    "    else:\n",
    "        factor_checker += 1\n",
    "        \n",
    "print(max(factors))"
   ]
  }
 ],
 "metadata": {
  "kernelspec": {
   "display_name": "Python 3",
   "language": "python",
   "name": "python3"
  },
  "language_info": {
   "codemirror_mode": {
    "name": "ipython",
    "version": 3
   },
   "file_extension": ".py",
   "mimetype": "text/x-python",
   "name": "python",
   "nbconvert_exporter": "python",
   "pygments_lexer": "ipython3",
   "version": "3.6.8"
  }
 },
 "nbformat": 4,
 "nbformat_minor": 2
}
