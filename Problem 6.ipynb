{
 "cells": [
  {
   "cell_type": "code",
   "execution_count": 2,
   "metadata": {},
   "outputs": [
    {
     "name": "stdout",
     "output_type": "stream",
     "text": [
      "25164150\n"
     ]
    }
   ],
   "source": [
    "\"\"\"The sum of the squares of the first ten natural numbers is,\n",
    "12 + 22 + ... + 102 = 385\n",
    "The square of the sum of the first ten natural numbers is,\n",
    "(1 + 2 + ... + 10)2 = 552 = 3025\n",
    "Hence the difference between the sum of the squares of the first ten natural numbers \n",
    "and the square of the sum is 3025 − 385 = 2640.\n",
    "Find the difference between the sum of the squares of the first one hundred \n",
    "natural numbers and the square of the sum.   \"\"\"\n",
    "\n",
    "# Fomula for adding squares of numbers is n(n+1)(2n+1)/6\n",
    "# Fomula for adding consecutive numbers is n(n+1)/2\n",
    "\n",
    "def sum_square(num):\n",
    "    return ((num*(num+1))/2)**2 - ((num*(num+1))*(2*num+1))/6\n",
    "\n",
    "print(int(sum_square(100)))"
   ]
  }
 ],
 "metadata": {
  "kernelspec": {
   "display_name": "Python 3",
   "language": "python",
   "name": "python3"
  },
  "language_info": {
   "codemirror_mode": {
    "name": "ipython",
    "version": 3
   },
   "file_extension": ".py",
   "mimetype": "text/x-python",
   "name": "python",
   "nbconvert_exporter": "python",
   "pygments_lexer": "ipython3",
   "version": "3.6.8"
  }
 },
 "nbformat": 4,
 "nbformat_minor": 2
}
