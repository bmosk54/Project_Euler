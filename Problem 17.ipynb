{
 "cells": [
  {
   "cell_type": "code",
   "execution_count": 12,
   "metadata": {},
   "outputs": [
    {
     "name": "stdout",
     "output_type": "stream",
     "text": [
      "Tally = 21124\n"
     ]
    }
   ],
   "source": [
    "\"\"\"If the numbers 1 to 5 are written out in words: one, two, three, four, five,\n",
    "then there are 3 + 3 + 5 + 4 + 4 = 19 letters used in total.\n",
    "If all the numbers from 1 to 1000 (one thousand) inclusive were written out in words, \n",
    "how many letters would be used?\n",
    "NOTE: Do not count spaces or hyphens. For example, 342 (three hundred and forty-two) \n",
    "contains 23 letters and 115 (one hundred and fifteen) contains 20 letters. \n",
    "The use of \"and\" when writing out numbers is in compliance with British usage.\"\"\"\n",
    "\n",
    "number = {\n",
    "    1:'one',2:'two',3:'three',4:'four',5:'five',6:'six',7:'seven',\n",
    "    8:'eight',9:'nine',10:'ten',11:'eleven',12:'twelve',13:'thirteen',\n",
    "    14:'fourteen',15:'fifteen',16:'sixteen',17:'seventeen',\n",
    "    18:'eighteen',19:'nineteen',20:'twenty',30:'thirty',40:'forty',\n",
    "    50:'fifty',60:'sixty',70:'seventy',80:'eighty',90:'ninety',\n",
    "    100:'hundred',1000:'thousand'}\n",
    "\n",
    "tally = 0\n",
    "for n in range(1,1001):\n",
    "    x = str(n)    \n",
    "    if len(x) == 1:\n",
    "        k = len(number[n])\n",
    "        \n",
    "    elif len(x) == 2:\n",
    "        x1 = x[0]\n",
    "        x2 = x[1]\n",
    "        if n < 20:\n",
    "            k = len(number[n])\n",
    "        else:\n",
    "            if x2 == '0':\n",
    "                k = len(number[n])\n",
    "            else:\n",
    "                x1a = str(x1 + '0')\n",
    "                k = len(number[int(x1a)]) + len(number[int(x2)])\n",
    "                \n",
    "                \n",
    "    elif len(str(n)) == 3:\n",
    "        x1 = x[0:1]\n",
    "        x2 = x[1:2]\n",
    "        x3 = x[2:3]\n",
    "        x1a = str(x2 + '0')\n",
    "        x1aa = str(x2 + x3)\n",
    "        if x1 == '1' and x2 == '0' and x3 == '0':\n",
    "            # 100 -- in the dictionary\n",
    "            k = len(number[1]) + len(number[100])\n",
    "        elif x2 == '0' and x3 == '0':\n",
    "            # Consider 200, 300, 400, 500, 600, 700, 800, and 900\n",
    "            k = len(number[int(x1)]) + len(number[100])\n",
    "        elif x2 == '0' and x3 != '0':\n",
    "            # Consider 101, 102 ... 109, 201, 202, ... 209 etc.\n",
    "            k = 3 + len(number[int(x1)]) + len(number[100]) \\\n",
    "                + len(number[int(x3)])\n",
    "        elif x2 != '0' and x3 == '0':\n",
    "            # Consider 110, 120, ... 190, 210, 220, ... 290 etc.\n",
    "            k = 3 + len(number[int(x1)]) + len(number[100]) \\\n",
    "                + len(number[int(x1a)])\n",
    "        elif x2 == '1' and x3 != '0':\n",
    "            # Consider the teens 111, 112, ... 119, 211, 212, ... 219 etc.\n",
    "            k = 3 + len(number[int(x1)]) + len(number[100]) \\\n",
    "                + len(number[int(x1aa)])\n",
    "        else:\n",
    "            # Consider all the other numbers\n",
    "            k = 3 + len(number[int(x1)]) + len(number[100]) \\\n",
    "                + len(number[int(x1a)]) + len(number[int(x3)])\n",
    "            \n",
    "    else:\n",
    "        # 1000 -- two parts (one and thousand) -- in the dictionary\n",
    "        k = len(number[1]) + len(number[1000])\n",
    "\n",
    "    tally = tally + k\n",
    "print(\"Tally = %s\" % tally)"
   ]
  }
 ],
 "metadata": {
  "kernelspec": {
   "display_name": "Python 3",
   "language": "python",
   "name": "python3"
  },
  "language_info": {
   "codemirror_mode": {
    "name": "ipython",
    "version": 3
   },
   "file_extension": ".py",
   "mimetype": "text/x-python",
   "name": "python",
   "nbconvert_exporter": "python",
   "pygments_lexer": "ipython3",
   "version": "3.6.8"
  }
 },
 "nbformat": 4,
 "nbformat_minor": 2
}
