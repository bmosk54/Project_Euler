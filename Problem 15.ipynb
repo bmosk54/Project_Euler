{
 "cells": [
  {
   "cell_type": "code",
   "execution_count": null,
   "metadata": {},
   "outputs": [],
   "source": [
    "\"\"\"Starting in the top left corner of a 2×2 grid, and only being able to move to the right and down, \n",
    "there are exactly 6 routes to the bottom right corner.\n",
    "How many such routes are there through a 20×20 grid?\"\"\"\n",
    "\n",
    "# Combinatorics states that (2n!)/[2(n!)] will give the number of permutations\n",
    "# Answer then is 40!/(2(20!)) = 137846528820"
   ]
  }
 ],
 "metadata": {
  "kernelspec": {
   "display_name": "Python 3",
   "language": "python",
   "name": "python3"
  },
  "language_info": {
   "codemirror_mode": {
    "name": "ipython",
    "version": 3
   },
   "file_extension": ".py",
   "mimetype": "text/x-python",
   "name": "python",
   "nbconvert_exporter": "python",
   "pygments_lexer": "ipython3",
   "version": "3.6.8"
  }
 },
 "nbformat": 4,
 "nbformat_minor": 2
}
