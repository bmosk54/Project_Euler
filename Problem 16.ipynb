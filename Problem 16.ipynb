{
 "cells": [
  {
   "cell_type": "code",
   "execution_count": 3,
   "metadata": {},
   "outputs": [
    {
     "name": "stdout",
     "output_type": "stream",
     "text": [
      "1366\n"
     ]
    }
   ],
   "source": [
    "\"\"\"215 = 32768 and the sum of its digits is 3 + 2 + 7 + 6 + 8 = 26.\n",
    "What is the sum of the digits of the number 21000?\"\"\"\n",
    "\n",
    "ans = str(2**1000)\n",
    "sum_num = 0\n",
    "for i in ans:\n",
    "    sum_num += int(i)\n",
    "    \n",
    "print(sum_num)"
   ]
  }
 ],
 "metadata": {
  "kernelspec": {
   "display_name": "Python 3",
   "language": "python",
   "name": "python3"
  },
  "language_info": {
   "codemirror_mode": {
    "name": "ipython",
    "version": 3
   },
   "file_extension": ".py",
   "mimetype": "text/x-python",
   "name": "python",
   "nbconvert_exporter": "python",
   "pygments_lexer": "ipython3",
   "version": "3.6.8"
  }
 },
 "nbformat": 4,
 "nbformat_minor": 2
}
