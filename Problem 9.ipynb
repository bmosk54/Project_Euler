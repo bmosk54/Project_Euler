{
 "cells": [
  {
   "cell_type": "code",
   "execution_count": 38,
   "metadata": {},
   "outputs": [
    {
     "name": "stdout",
     "output_type": "stream",
     "text": [
      "product: 31875000\n",
      "Pythagorean triple: a-> 200  b-> 375  c-> 425\n"
     ]
    }
   ],
   "source": [
    "\"\"\"A Pythagorean triplet is a set of three natural numbers, a < b < c, for which,\n",
    "\n",
    "a2 + b2 = c2\n",
    "For example, 32 + 42 = 9 + 16 = 25 = 52.\n",
    "\n",
    "There exists exactly one Pythagorean triplet for which a + b + c = 1000.\n",
    "Find the product abc.\"\"\"\n",
    "\n",
    "import math\n",
    "\n",
    "for a in range(998):\n",
    "    for b in range(999):\n",
    "        c = math.sqrt(a**2+b**2)\n",
    "        if c == int(c) and a+b+c == 1000 and a != b and a != c and b != c:\n",
    "            print(\"product:\", int(a*b*c))\n",
    "            print(\"Pythagorean triple:\", \"a->\", a, \" b->\", b, \" c->\", int(c))\n",
    "            break\n",
    "    else:\n",
    "        continue\n",
    "    break"
   ]
  }
 ],
 "metadata": {
  "kernelspec": {
   "display_name": "Python 3",
   "language": "python",
   "name": "python3"
  },
  "language_info": {
   "codemirror_mode": {
    "name": "ipython",
    "version": 3
   },
   "file_extension": ".py",
   "mimetype": "text/x-python",
   "name": "python",
   "nbconvert_exporter": "python",
   "pygments_lexer": "ipython3",
   "version": "3.6.8"
  }
 },
 "nbformat": 4,
 "nbformat_minor": 2
}
