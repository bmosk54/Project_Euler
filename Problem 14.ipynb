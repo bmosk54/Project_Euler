{
 "cells": [
  {
   "cell_type": "code",
   "execution_count": 19,
   "metadata": {
    "scrolled": true
   },
   "outputs": [
    {
     "name": "stdout",
     "output_type": "stream",
     "text": [
      "1\n",
      "2\n",
      "3\n",
      "6\n",
      "7\n",
      "9\n",
      "18\n",
      "25\n",
      "27\n",
      "54\n",
      "73\n",
      "97\n",
      "129\n",
      "171\n",
      "231\n",
      "313\n",
      "327\n",
      "649\n",
      "703\n",
      "871\n",
      "1161\n",
      "2223\n",
      "2463\n",
      "2919\n",
      "3711\n",
      "6171\n",
      "10971\n",
      "13255\n",
      "17647\n",
      "23529\n",
      "26623\n",
      "34239\n",
      "35655\n",
      "52527\n",
      "77031\n",
      "106239\n",
      "142587\n",
      "156159\n",
      "216367\n",
      "230631\n",
      "410011\n",
      "511935\n",
      "626331\n",
      "837799\n",
      "19.817177772521973\n"
     ]
    }
   ],
   "source": [
    "\"\"\"The following iterative sequence is defined for the set of positive integers:\n",
    "n → n/2 (n is even)\n",
    "n → 3n + 1 (n is odd)\n",
    "Using the rule above and starting with 13, we generate the following sequence:\n",
    "13 → 40 → 20 → 10 → 5 → 16 → 8 → 4 → 2 → 1\n",
    "It can be seen that this sequence (starting at 13 and finishing at 1) contains 10 terms. \n",
    "Although it has not been proved yet (Collatz Problem), it is thought that all starting numbers finish at 1.\n",
    "Which starting number, under one million, produces the longest chain?\n",
    "NOTE: Once the chain starts the terms are allowed to go above one million.\"\"\"\n",
    "\n",
    "import time\n",
    "\n",
    "def collatz(n):\n",
    "    length = 1\n",
    "    num = n\n",
    "    while True:\n",
    "        if num == 1:\n",
    "            return length\n",
    "        if num % 2 == 0:\n",
    "            num /= 2\n",
    "        else:\n",
    "            num = num * 3 + 1\n",
    "        length += 1\n",
    "    return length\n",
    "\n",
    "start = time.time()\n",
    "longest = 0 \n",
    "for i in range(1,1000001):\n",
    "    col_len = collatz(i)\n",
    "    if(col_len > longest):\n",
    "        longest = col_len\n",
    "        print(i)\n",
    "end = time.time()\n",
    "print(end - start)"
   ]
  }
 ],
 "metadata": {
  "kernelspec": {
   "display_name": "Python 3",
   "language": "python",
   "name": "python3"
  },
  "language_info": {
   "codemirror_mode": {
    "name": "ipython",
    "version": 3
   },
   "file_extension": ".py",
   "mimetype": "text/x-python",
   "name": "python",
   "nbconvert_exporter": "python",
   "pygments_lexer": "ipython3",
   "version": "3.6.8"
  }
 },
 "nbformat": 4,
 "nbformat_minor": 2
}
