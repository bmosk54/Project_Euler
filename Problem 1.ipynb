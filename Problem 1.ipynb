{
 "cells": [
  {
   "cell_type": "code",
   "execution_count": 1,
   "metadata": {},
   "outputs": [
    {
     "name": "stdout",
     "output_type": "stream",
     "text": [
      "233168\n"
     ]
    }
   ],
   "source": [
    "\"\"\"If we list all the natural numbers below 10 that are multiples of 3 or 5, we get 3, 5, 6 and 9. \n",
    "The sum of these multiples is 23. Find the sum of all the multiples of 3 or 5 below 1000. \"\"\"\n",
    "\n",
    "HIGH = 1000\n",
    "STEP_1 = 3\n",
    "STEP_2 = 5\n",
    "multiples = []\n",
    "for i in range (0, HIGH, STEP_1):\n",
    "    multiples.append(i)\n",
    "for i in range  (0, HIGH, STEP_2):\n",
    "    multiples.append(i)\n",
    "\n",
    "print(sum(set(multiples)))    "
   ]
  }
 ],
 "metadata": {
  "kernelspec": {
   "display_name": "Python 3",
   "language": "python",
   "name": "python3"
  },
  "language_info": {
   "codemirror_mode": {
    "name": "ipython",
    "version": 3
   },
   "file_extension": ".py",
   "mimetype": "text/x-python",
   "name": "python",
   "nbconvert_exporter": "python",
   "pygments_lexer": "ipython3",
   "version": "3.6.8"
  }
 },
 "nbformat": 4,
 "nbformat_minor": 2
}
