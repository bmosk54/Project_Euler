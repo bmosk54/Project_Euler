{
 "cells": [
  {
   "cell_type": "code",
   "execution_count": 8,
   "metadata": {},
   "outputs": [
    {
     "name": "stdout",
     "output_type": "stream",
     "text": [
      "4179871\n",
      "3.067410469055176\n"
     ]
    }
   ],
   "source": [
    "\"\"\"A perfect number is a number for which the sum of its proper divisors is exactly equal to the number. \n",
    "For example, the sum of the proper divisors of 28 would be 1 + 2 + 4 + 7 + 14 = 28, which means that 28 is a \n",
    "perfect number.\n",
    "\n",
    "A number n is called deficient if the sum of its proper divisors is less than n and it is called abundant \n",
    "if this sum exceeds n.\n",
    "\n",
    "As 12 is the smallest abundant number, 1 + 2 + 3 + 4 + 6 = 16, the smallest number that can be written as the sum \n",
    "of two abundant numbers is 24. By mathematical analysis, it can be shown that all integers greater than 28123 \n",
    "can be written as the sum of two abundant numbers. However, this upper limit cannot be reduced any further by \n",
    "analysis even though it is known that the greatest number that cannot be expressed as the \n",
    "sum of two abundant numbers is less than this limit.\n",
    "\n",
    "Find the sum of all the positive integers which cannot be written as the sum of two abundant numbers.\"\"\"\n",
    "import math\n",
    "import time\n",
    "\n",
    "start = time.time()\n",
    "\n",
    "ab = []\n",
    "\n",
    "def divisors(n):\n",
    "    divs = [1]\n",
    "    for i in range(2,int(math.sqrt(n))+1):\n",
    "        if n%i == 0:\n",
    "            divs.extend([i,n/i])\n",
    "    return list(set(divs))\n",
    "\n",
    "for i in range(12,28123):\n",
    "    if sum(divisors(i))>i:\n",
    "        ab.append(i)\n",
    "\n",
    "non_ab_sum = [x for x in range(28123)]\n",
    "\n",
    "for i in range(len(ab)):\n",
    "    for j in range(i,28123):\n",
    "        if ab[i]+ab[j] < 28123:\n",
    "            non_ab_sum[ab[i]+ab[j]] = 0\n",
    "        else:\n",
    "            break\n",
    "\n",
    "print(sum(non_ab_sum))\n",
    "        \n",
    "print(time.time() -start)"
   ]
  }
 ],
 "metadata": {
  "kernelspec": {
   "display_name": "Python 3",
   "language": "python",
   "name": "python3"
  },
  "language_info": {
   "codemirror_mode": {
    "name": "ipython",
    "version": 3
   },
   "file_extension": ".py",
   "mimetype": "text/x-python",
   "name": "python",
   "nbconvert_exporter": "python",
   "pygments_lexer": "ipython3",
   "version": "3.6.8"
  }
 },
 "nbformat": 4,
 "nbformat_minor": 2
}
